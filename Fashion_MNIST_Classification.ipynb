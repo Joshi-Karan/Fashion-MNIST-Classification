{
  "cells": [
    {
      "cell_type": "code",
      "execution_count": 1,
      "metadata": {
        "id": "PV2MhkP8XmG3"
      },
      "outputs": [],
      "source": [
        "import numpy as np\n",
        "np.random.seed(42)\n",
        "import pandas as pd"
      ]
    },
    {
      "cell_type": "code",
      "execution_count": 27,
      "metadata": {
        "id": "ibz0Q_O-dsY2"
      },
      "outputs": [],
      "source": [
        "import tensorflow as tf\n",
        "from tensorflow import keras\n",
        "tf.random.set_seed(42)"
      ]
    },
    {
      "cell_type": "code",
      "execution_count": 18,
      "metadata": {
        "colab": {
          "base_uri": "https://localhost:8080/"
        },
        "id": "rKmxUZ6tqh4m",
        "outputId": "5bb8d5b1-9a80-4a35-ed8e-0ebc044e328d"
      },
      "outputs": [
        {
          "name": "stdout",
          "output_type": "stream",
          "text": [
            "Downloading data from https://storage.googleapis.com/tensorflow/tf-keras-datasets/train-labels-idx1-ubyte.gz\n",
            "29515/29515 [==============================] - 0s 0us/step\n",
            "Downloading data from https://storage.googleapis.com/tensorflow/tf-keras-datasets/train-images-idx3-ubyte.gz\n",
            "26421880/26421880 [==============================] - 0s 0us/step\n",
            "Downloading data from https://storage.googleapis.com/tensorflow/tf-keras-datasets/t10k-labels-idx1-ubyte.gz\n",
            "5148/5148 [==============================] - 0s 0us/step\n",
            "Downloading data from https://storage.googleapis.com/tensorflow/tf-keras-datasets/t10k-images-idx3-ubyte.gz\n",
            "4422102/4422102 [==============================] - 0s 0us/step\n"
          ]
        }
      ],
      "source": [
        "fashion_mnist = keras.datasets.fashion_mnist\n",
        "(X_train_full, y_train_full), (X_test, y_test) = fashion_mnist.load_data()"
      ]
    },
    {
      "cell_type": "code",
      "execution_count": 21,
      "metadata": {
        "colab": {
          "base_uri": "https://localhost:8080/"
        },
        "id": "HvkVkM5IrDoV",
        "outputId": "37e86513-e633-4704-ae60-7e4765139748"
      },
      "outputs": [
        {
          "name": "stdout",
          "output_type": "stream",
          "text": [
            "(60000, 28, 28)\n",
            "uint8\n"
          ]
        }
      ],
      "source": [
        "print(X_train_full.shape)\n",
        "print(X_train_full.dtype)"
      ]
    },
    {
      "cell_type": "markdown",
      "metadata": {
        "id": "6BMW7MFsq4tW"
      },
      "source": [
        "Let's split the full training set into a validation set and a (smaller) training set. We also scale the pixel intensities down to the 0-1 range and convert them to floats, by dividing by 255."
      ]
    },
    {
      "cell_type": "code",
      "execution_count": 19,
      "metadata": {
        "id": "ZEWmKiduqxSn"
      },
      "outputs": [],
      "source": [
        "X_valid, X_train = X_train_full[:5000] / 255., X_train_full[5000:] / 255.\n",
        "y_valid, y_train = y_train_full[:5000], y_train_full[5000:]\n",
        "X_test = X_test / 255."
      ]
    },
    {
      "cell_type": "code",
      "execution_count": 26,
      "metadata": {
        "colab": {
          "base_uri": "https://localhost:8080/",
          "height": 248
        },
        "id": "AJIX1ktHrRLy",
        "outputId": "7c0b2a37-64c0-48de-c388-acfb76aab3f6"
      },
      "outputs": [
        {
          "data": {
            "image/png": "[encoded data removed]",
            "text/plain": [
              "<Figure size 432x288 with 1 Axes>"
            ]
          },
          "metadata": {
            "needs_background": "light"
          },
          "output_type": "display_data"
        }
      ],
      "source": [
        "plt.imshow(X_train[69], cmap='binary', interpolation=\"nearest\")\n",
        "plt.axis('off')\n",
        "plt.show()"
      ]
    },
    {
      "cell_type": "code",
      "execution_count": 28,
      "metadata": {
        "colab": {
          "base_uri": "https://localhost:8080/"
        },
        "id": "ElC511nuuGKt",
        "outputId": "25dc016e-973d-489d-f3cd-e589d22bb078"
      },
      "outputs": [
        {
          "data": {
            "text/plain": [
              "(28, 28)"
            ]
          },
          "execution_count": 28,
          "metadata": {},
          "output_type": "execute_result"
        }
      ],
      "source": [
        "X_train[1].shape"
      ]
    },
    {
      "cell_type": "code",
      "execution_count": 32,
      "metadata": {
        "colab": {
          "base_uri": "https://localhost:8080/"
        },
        "id": "ZcRAH6Ct1mAB",
        "outputId": "7edfddea-a6fc-4bbd-9b86-019ee99f7bb7"
      },
      "outputs": [
        {
          "data": {
            "text/plain": [
              "array([0, 1, 2, 3, 4, 5, 6, 7, 8, 9], dtype=uint8)"
            ]
          },
          "execution_count": 32,
          "metadata": {},
          "output_type": "execute_result"
        }
      ],
      "source": [
        "np.unique(y_train)"
      ]
    },
    {
      "cell_type": "code",
      "execution_count": 48,
      "metadata": {
        "id": "wt4iYJ9asy8F"
      },
      "outputs": [],
      "source": [
        "model = keras.models.Sequential([\n",
        "    keras.layers.Conv2D(32, kernel_size=(3,3), activation='relu', input_shape=(28, 28, 1)),\n",
        "    keras.layers.Flatten(),\n",
        "    keras.layers.Dense(100, activation='relu'),\n",
        "    keras.layers.Dense(10, activation='softmax')\n",
        "])\n",
        "    "
      ]
    },
    {
      "cell_type": "code",
      "execution_count": 49,
      "metadata": {
        "colab": {
          "base_uri": "https://localhost:8080/"
        },
        "id": "ijdD9vBl4BS_",
        "outputId": "7a7e3665-2ce4-4e38-f886-6e4811ac1c27"
      },
      "outputs": [
        {
          "name": "stdout",
          "output_type": "stream",
          "text": [
            "Model: \"sequential_6\"\n",
            "_________________________________________________________________\n",
            " Layer (type)                Output Shape              Param #   \n",
            "=================================================================\n",
            " conv2d_5 (Conv2D)           (None, 26, 26, 32)        320       \n",
            "                                                                 \n",
            " flatten_4 (Flatten)         (None, 21632)             0         \n",
            "                                                                 \n",
            " dense_13 (Dense)            (None, 100)               2163300   \n",
            "                                                                 \n",
            " dense_14 (Dense)            (None, 10)                1010      \n",
            "                                                                 \n",
            "=================================================================\n",
            "Total params: 2,164,630\n",
            "Trainable params: 2,164,630\n",
            "Non-trainable params: 0\n",
            "_________________________________________________________________\n"
          ]
        }
      ],
      "source": [
        "model.summary()"
      ]
    },
    {
      "cell_type": "code",
      "execution_count": 50,
      "metadata": {
        "colab": {
          "base_uri": "https://localhost:8080/",
          "height": 533
        },
        "id": "1nNpnGsB4KNz",
        "outputId": "57ba482c-a7a8-445f-874d-7a532621346b"
      },
      "outputs": [
        {
          "data": {
            "image/png": "[encoded data removed]",
            "text/plain": [
              "<IPython.core.display.Image object>"
            ]
          },
          "execution_count": 50,
          "metadata": {},
          "output_type": "execute_result"
        }
      ],
      "source": [
        "keras.utils.plot_model(model, \"fashion_mnist_model.png\", show_shapes=True)"
      ]
    },
    {
      "cell_type": "code",
      "execution_count": 51,
      "metadata": {
        "id": "J3-3R8a14QTi"
      },
      "outputs": [],
      "source": [
        "model.compile(loss='sparse_categorical_crossentropy',\n",
        "              optimizer=\"sgd\",\n",
        "              metrics=['accuracy'])"
      ]
    },
    {
      "cell_type": "code",
      "execution_count": 52,
      "metadata": {
        "colab": {
          "base_uri": "https://localhost:8080/"
        },
        "id": "ieIbYAZc4wph",
        "outputId": "af16dfc1-598a-4cc5-f79b-a299f41714e4"
      },
      "outputs": [
        {
          "name": "stdout",
          "output_type": "stream",
          "text": [
            "Epoch 1/10\n",
            "1719/1719 [==============================] - 71s 41ms/step - loss: 0.6588 - accuracy: 0.7706 - val_loss: 0.5225 - val_accuracy: 0.8168\n",
            "Epoch 2/10\n",
            "1719/1719 [==============================] - 64s 37ms/step - loss: 0.4616 - accuracy: 0.8341 - val_loss: 0.4057 - val_accuracy: 0.8580\n",
            "Epoch 3/10\n",
            "1719/1719 [==============================] - 60s 35ms/step - loss: 0.4132 - accuracy: 0.8519 - val_loss: 0.5857 - val_accuracy: 0.7848\n",
            "Epoch 4/10\n",
            "1719/1719 [==============================] - 58s 34ms/step - loss: 0.3848 - accuracy: 0.8640 - val_loss: 0.3627 - val_accuracy: 0.8748\n",
            "Epoch 5/10\n",
            "1719/1719 [==============================] - 59s 34ms/step - loss: 0.3623 - accuracy: 0.8701 - val_loss: 0.3504 - val_accuracy: 0.8724\n",
            "Epoch 6/10\n",
            "1719/1719 [==============================] - 58s 34ms/step - loss: 0.3402 - accuracy: 0.8779 - val_loss: 0.3418 - val_accuracy: 0.8828\n",
            "Epoch 7/10\n",
            "1719/1719 [==============================] - 60s 35ms/step - loss: 0.3244 - accuracy: 0.8837 - val_loss: 0.3371 - val_accuracy: 0.8802\n",
            "Epoch 8/10\n",
            "1719/1719 [==============================] - 59s 34ms/step - loss: 0.3088 - accuracy: 0.8892 - val_loss: 0.3447 - val_accuracy: 0.8766\n",
            "Epoch 9/10\n",
            "1719/1719 [==============================] - 59s 34ms/step - loss: 0.2941 - accuracy: 0.8942 - val_loss: 0.3170 - val_accuracy: 0.8804\n",
            "Epoch 10/10\n",
            "1719/1719 [==============================] - 57s 33ms/step - loss: 0.2819 - accuracy: 0.8984 - val_loss: 0.3010 - val_accuracy: 0.8918\n"
          ]
        }
      ],
      "source": [
        "checkpoint = keras.callbacks.ModelCheckpoint(\"my_model.h5\", save_best_only=True)\n",
        "history = model.fit(X_train, y_train, epochs=10,\n",
        "                    validation_data=(X_valid, y_valid),\n",
        "                    callbacks=[checkpoint])"
      ]
    },
    {
      "cell_type": "code",
      "execution_count": 54,
      "metadata": {
        "colab": {
          "base_uri": "https://localhost:8080/"
        },
        "id": "tFHa3hdG9iHW",
        "outputId": "b52cdd05-a10d-4990-97ab-d5487af1b3d4"
      },
      "outputs": [
        {
          "name": "stdout",
          "output_type": "stream",
          "text": [
            "313/313 [==============================] - 5s 15ms/step - loss: 0.3295 - accuracy: 0.8808\n"
          ]
        },
        {
          "data": {
            "text/plain": [
              "[0.32949188351631165, 0.8808000087738037]"
            ]
          },
          "execution_count": 54,
          "metadata": {},
          "output_type": "execute_result"
        }
      ],
      "source": [
        "model = keras.models.load_model('my_model.h5')\n",
        "model.evaluate(X_test ,y_test)"
      ]
    },
    {
      "cell_type": "code",
      "execution_count": null,
      "metadata": {
        "id": "DQDNPn_q5IuM"
      },
      "outputs": [],
      "source": []
    }
  ],
  "metadata": {
    "colab": {
      "provenance": []
    },
    "kernelspec": {
      "display_name": "Python 3",
      "name": "python3"
    },
    "language_info": {
      "name": "python"
    }
  },
  "nbformat": 4,
  "nbformat_minor": 0
}
